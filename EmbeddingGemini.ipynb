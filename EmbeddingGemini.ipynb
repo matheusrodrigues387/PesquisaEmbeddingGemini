{
  "nbformat": 4,
  "nbformat_minor": 0,
  "metadata": {
    "colab": {
      "provenance": [],
      "toc_visible": true,
      "authorship_tag": "ABX9TyPV7hI5XSLdz4Q7rXzvD3sl"
    },
    "kernelspec": {
      "name": "python3",
      "display_name": "Python 3"
    },
    "language_info": {
      "name": "python"
    }
  },
  "cells": [
    {
      "cell_type": "code",
      "execution_count": 2,
      "metadata": {
        "id": "bb_vPz3jDWIF"
      },
      "outputs": [],
      "source": [
        "#Instalando SDK Gemini\n",
        "!pip install -q -U google-generativeai"
      ]
    },
    {
      "cell_type": "code",
      "source": [
        "#Importando bibliotecas\n",
        "import numpy as np\n",
        "import pandas as pd\n",
        "import google.generativeai as genai\n",
        "\n",
        "#Recuperando Gemini Api Key\n",
        "from google.colab import userdata\n",
        "apiKey = userdata.get('geminiKey')\n",
        "\n",
        "# Aplicando a API Key no Gemini\n",
        "genai.configure(api_key=apiKey)"
      ],
      "metadata": {
        "id": "hIMytr9gDmsB"
      },
      "execution_count": 3,
      "outputs": []
    },
    {
      "cell_type": "code",
      "source": [
        "# Embedando primeiro documento\n",
        "title = \"The next generation of AI for developers and Google Workspace\"\n",
        "sample_text = (\"Title: The next generation of AI for developers and Google Workspace\"\n",
        "    \"\\n\"\n",
        "    \"Full article:\\n\"\n",
        "    \"\\n\"\n",
        "    \"Gemini API & Google AI Studio: An approachable way to explore and prototype with generative AI applications\")\n",
        "\n",
        "model = 'models/embedding-001'\n",
        "embedding = genai.embed_content(model=model,\n",
        "                                content=sample_text,\n",
        "                                task_type=\"retrieval_document\",\n",
        "                                title=title)\n",
        "\n",
        "print(embedding)"
      ],
      "metadata": {
        "id": "e72xzNs1KqEQ"
      },
      "execution_count": null,
      "outputs": []
    },
    {
      "cell_type": "code",
      "source": [
        "#Cria tres novos documentos para embedar\n",
        "album1 = {\n",
        "    \"title\": \"Damn\",\n",
        "    \"content\": \"1.BLOOD\\n2.DNA\\n3.YAH\\n4.ELEMENT\\n5.FEEL\\n6.LOYALTY(feat. Rihanna)\\n7.PRIDE\\n8.HUMBLE\\n9.LUST\\n10.LOVE(feat. Zacari)\\n11.XXX(feat. U2)\\n12FEAR\\n13.GOD\\n14.DUCKWORTH.\"}\n",
        "album2 = {\n",
        "    \"title\": \"To Pimp a Butterfly\",\n",
        "    \"content\": \"1.Wesley's Theory (Feat. George Clinton & Thundercat)\\n2.For Free? - Interlude\\n3.King Kunta\\n4.Institutionalized (Feat. Anna Wise, Bilal & Snoop Dogg)\\n5.These Walls (Feat. Anna Wise, Bilal & Thundercat)\\n6.U\\n7.Alright\\n8.For Sale? - Interlude\\n9.Momma\\n10.Hood Politics\\n11.How Much a Dollar Cost (Feat. James Fauntleroy & Ronald Isley)\\n12.Complexion (A Zulu Love) (Feat. Rapsody)\\n13.The Blacker the Berry 14. Butterfly\\n14.The Art of Peer Pressure\\n15.Mortal Man\"}\n",
        "album3 = {\n",
        "    \"title\": \"Good Kid, M.A.A.D City\",\n",
        "    \"content\": \"1.Sherane a.k.a Master Splinter's Daughter\\n2.Bitch, Don't Kill My Vibe\\n3.Backseat Freestyle\\n4.The Art of Peer Pressure\\n5.Money Trees (feat. Jay Rock)\\n6.Poetic Justice (feat. Drake)\\n7.good kid\\n8.m.A.A.d city (feat. MC Eiht)\\n9.Swimming Pools (Drank)\\n10.Sing About Me, I'm Dying of Thirst\\n11.Real (feat. Anna Wise)\\n12.Compton (feat. Dr. Dre)\"}\n",
        "\n",
        "documents = [album1, album2, album3]"
      ],
      "metadata": {
        "id": "k0RjJV6ULAiv"
      },
      "execution_count": 7,
      "outputs": []
    },
    {
      "cell_type": "code",
      "source": [
        "df = pd.DataFrame(documents)\n",
        "df.columns = ['Album', 'Musicas']\n",
        "df"
      ],
      "metadata": {
        "id": "ooYlMrZyLakL"
      },
      "execution_count": null,
      "outputs": []
    },
    {
      "cell_type": "code",
      "source": [
        "# Definindo modelo de embedding\n",
        "model = \"models/embedding-001\""
      ],
      "metadata": {
        "id": "Y2APymHyPV-B"
      },
      "execution_count": 9,
      "outputs": []
    },
    {
      "cell_type": "code",
      "source": [
        "#Função para embedar um documento no Gemini\n",
        "def embed_fn(title, text):\n",
        "  return genai.embed_content(model=model,\n",
        "                                content=text,\n",
        "                                task_type=\"retrieval_document\",\n",
        "                                title=title)[\"embedding\"]"
      ],
      "metadata": {
        "id": "PHYHuDTjPev1"
      },
      "execution_count": 10,
      "outputs": []
    },
    {
      "cell_type": "code",
      "source": [
        "# Cria uma coluna e retorna o embedding de cara item do data frame\n",
        "df[\"Embeddings\"] = df.apply(lambda linha: embed_fn(linha[\"Album\"], linha[\"Musicas\"]), axis=1)\n",
        "df"
      ],
      "metadata": {
        "id": "11b-SxSqQjps"
      },
      "execution_count": null,
      "outputs": []
    },
    {
      "cell_type": "code",
      "source": [
        "# pesquisa um conteudo do dataframe transformando a pergunta em embedding\n",
        "def pesquisar_album(consulta, dfpesquisa, model):\n",
        "  embedding_pesquisa = genai.embed_content(model=model,\n",
        "                                content=consulta,\n",
        "                                task_type=\"retrieval_query\")[\"embedding\"]\n",
        "\n",
        "  produtos_escalares = np.dot(np.stack(dfpesquisa[\"Embeddings\"]), embedding_pesquisa)\n",
        "  indice = np.argmax(produtos_escalares)\n",
        "  return dfpesquisa.iloc[indice][\"Album\"]"
      ],
      "metadata": {
        "id": "9gwCUvrhTGkJ"
      },
      "execution_count": 12,
      "outputs": []
    },
    {
      "cell_type": "code",
      "source": [
        "pesquisa = \"Encontre a musica Money Trees\"\n",
        "\n",
        "trecho = pesquisar_album(pesquisa, df, model)\n",
        "print(trecho)"
      ],
      "metadata": {
        "colab": {
          "base_uri": "https://localhost:8080/",
          "height": 34
        },
        "id": "4yCQQPcxYWp7",
        "outputId": "5285c4a1-f318-4101-b432-b261ab7f1dde"
      },
      "execution_count": 13,
      "outputs": [
        {
          "output_type": "stream",
          "name": "stdout",
          "text": [
            "Good Kid, M.A.A.D City\n"
          ]
        }
      ]
    },
    {
      "cell_type": "markdown",
      "source": [],
      "metadata": {
        "id": "UR7S3r4hT5SA"
      }
    }
  ]
}